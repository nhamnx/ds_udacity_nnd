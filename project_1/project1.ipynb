{
 "cells": [
  {
   "cell_type": "markdown",
   "metadata": {},
   "source": [
    "# PROJECT 1 - STACK OVERFLOW SURVEY ANALYSIS\n",
    "BY NGUYEN XUAN NHAM\n",
    "\n",
    "In this project, I will perform some analysis on the Stack Overflow Data - 2017 Survey with the 6 steps of CRISP-DM:\n",
    "\n",
    "- Business understanding\n",
    "- Data understanding\n",
    "- Prepare data\n",
    "- Model data\n",
    "- Evaluation results\n",
    "- Deployment"
   ]
  },
  {
   "cell_type": "markdown",
   "metadata": {},
   "source": [
    "## Business Understanding\n",
    "\n",
    "### Introduction\n",
    "I am interested in applying a data analytic method to learn more about this topic as developers increasingly choose to work from home. I intend to use the studies' findings to offer some helpful advice to developers seeking for work-from-home opportunities. \n",
    "\n",
    "### The main inquiries I want to address are:\n",
    "- Which nations encourage working from home the most?\n",
    "- Impact of Work From Home on Job Satisfaction\n",
    "- How can I find a job as a freelance developer?"
   ]
  },
  {
   "cell_type": "markdown",
   "metadata": {},
   "source": [
    "### Import Required Libraries"
   ]
  },
  {
   "cell_type": "code",
   "execution_count": 184,
   "metadata": {},
   "outputs": [],
   "source": [
    "import numpy as np\n",
    "import pandas as pd\n",
    "import matplotlib.pyplot as plt\n",
    "import seaborn as sns\n",
    "from sklearn.model_selection import train_test_split\n",
    "from sklearn.metrics import accuracy_score\n",
    "from sklearn.linear_model import LogisticRegression\n",
    "from sklearn import tree\n",
    "pd.set_option('max_row', None)\n",
    "%matplotlib inline"
   ]
  },
  {
   "cell_type": "markdown",
   "metadata": {},
   "source": [
    "## Data Understanding\n",
    "Data from the 2017 Stack Overflow developer survey was used in this analysis. About 150 survey questions were answered by participants in about 200 different countries. This notebook made an effort to respond to the three issues listed in the Business Understanding section using survey questions about working from home."
   ]
  },
  {
   "cell_type": "markdown",
   "metadata": {},
   "source": [
    "### Gather Data"
   ]
  },
  {
   "cell_type": "code",
   "execution_count": 185,
   "metadata": {},
   "outputs": [],
   "source": [
    "# Load Schema data\n",
    "schema_df = pd.read_csv('./data/survey_results_schema.csv')"
   ]
  },
  {
   "cell_type": "code",
   "execution_count": 186,
   "metadata": {},
   "outputs": [],
   "source": [
    "# Load Survey data\n",
    "df = pd.read_csv('./data/survey_results_public.csv')"
   ]
  },
  {
   "cell_type": "markdown",
   "metadata": {},
   "source": [
    "Let's look at the first 5 rows of each dataframe to get a quick look at the data"
   ]
  },
  {
   "cell_type": "code",
   "execution_count": 187,
   "metadata": {},
   "outputs": [
    {
     "data": {
      "text/html": [
       "<div>\n",
       "<style scoped>\n",
       "    .dataframe tbody tr th:only-of-type {\n",
       "        vertical-align: middle;\n",
       "    }\n",
       "\n",
       "    .dataframe tbody tr th {\n",
       "        vertical-align: top;\n",
       "    }\n",
       "\n",
       "    .dataframe thead th {\n",
       "        text-align: right;\n",
       "    }\n",
       "</style>\n",
       "<table border=\"1\" class=\"dataframe\">\n",
       "  <thead>\n",
       "    <tr style=\"text-align: right;\">\n",
       "      <th></th>\n",
       "      <th>Column</th>\n",
       "      <th>Question</th>\n",
       "    </tr>\n",
       "  </thead>\n",
       "  <tbody>\n",
       "    <tr>\n",
       "      <th>0</th>\n",
       "      <td>Respondent</td>\n",
       "      <td>Respondent ID number</td>\n",
       "    </tr>\n",
       "    <tr>\n",
       "      <th>1</th>\n",
       "      <td>Professional</td>\n",
       "      <td>Which of the following best describes you?</td>\n",
       "    </tr>\n",
       "    <tr>\n",
       "      <th>2</th>\n",
       "      <td>ProgramHobby</td>\n",
       "      <td>Do you program as a hobby or contribute to ope...</td>\n",
       "    </tr>\n",
       "    <tr>\n",
       "      <th>3</th>\n",
       "      <td>Country</td>\n",
       "      <td>In which country do you currently live?</td>\n",
       "    </tr>\n",
       "    <tr>\n",
       "      <th>4</th>\n",
       "      <td>University</td>\n",
       "      <td>Are you currently enrolled in a formal, degree...</td>\n",
       "    </tr>\n",
       "  </tbody>\n",
       "</table>\n",
       "</div>"
      ],
      "text/plain": [
       "         Column                                           Question\n",
       "0    Respondent                               Respondent ID number\n",
       "1  Professional         Which of the following best describes you?\n",
       "2  ProgramHobby  Do you program as a hobby or contribute to ope...\n",
       "3       Country            In which country do you currently live?\n",
       "4    University  Are you currently enrolled in a formal, degree..."
      ]
     },
     "execution_count": 187,
     "metadata": {},
     "output_type": "execute_result"
    }
   ],
   "source": [
    "schema_df.head(5)"
   ]
  },
  {
   "cell_type": "code",
   "execution_count": 188,
   "metadata": {},
   "outputs": [
    {
     "name": "stdout",
     "output_type": "stream",
     "text": [
      "Schema dataframe shape: (154, 2)\n"
     ]
    }
   ],
   "source": [
    "print(f'Schema dataframe shape: {schema_df.shape}')"
   ]
  },
  {
   "cell_type": "code",
   "execution_count": 189,
   "metadata": {},
   "outputs": [
    {
     "data": {
      "text/html": [
       "<div>\n",
       "<style scoped>\n",
       "    .dataframe tbody tr th:only-of-type {\n",
       "        vertical-align: middle;\n",
       "    }\n",
       "\n",
       "    .dataframe tbody tr th {\n",
       "        vertical-align: top;\n",
       "    }\n",
       "\n",
       "    .dataframe thead th {\n",
       "        text-align: right;\n",
       "    }\n",
       "</style>\n",
       "<table border=\"1\" class=\"dataframe\">\n",
       "  <thead>\n",
       "    <tr style=\"text-align: right;\">\n",
       "      <th></th>\n",
       "      <th>Respondent</th>\n",
       "      <th>Professional</th>\n",
       "      <th>ProgramHobby</th>\n",
       "      <th>Country</th>\n",
       "      <th>University</th>\n",
       "      <th>EmploymentStatus</th>\n",
       "      <th>FormalEducation</th>\n",
       "      <th>MajorUndergrad</th>\n",
       "      <th>HomeRemote</th>\n",
       "      <th>CompanySize</th>\n",
       "      <th>...</th>\n",
       "      <th>StackOverflowMakeMoney</th>\n",
       "      <th>Gender</th>\n",
       "      <th>HighestEducationParents</th>\n",
       "      <th>Race</th>\n",
       "      <th>SurveyLong</th>\n",
       "      <th>QuestionsInteresting</th>\n",
       "      <th>QuestionsConfusing</th>\n",
       "      <th>InterestedAnswers</th>\n",
       "      <th>Salary</th>\n",
       "      <th>ExpectedSalary</th>\n",
       "    </tr>\n",
       "  </thead>\n",
       "  <tbody>\n",
       "    <tr>\n",
       "      <th>0</th>\n",
       "      <td>1</td>\n",
       "      <td>Student</td>\n",
       "      <td>Yes, both</td>\n",
       "      <td>United States</td>\n",
       "      <td>No</td>\n",
       "      <td>Not employed, and not looking for work</td>\n",
       "      <td>Secondary school</td>\n",
       "      <td>NaN</td>\n",
       "      <td>NaN</td>\n",
       "      <td>NaN</td>\n",
       "      <td>...</td>\n",
       "      <td>Strongly disagree</td>\n",
       "      <td>Male</td>\n",
       "      <td>High school</td>\n",
       "      <td>White or of European descent</td>\n",
       "      <td>Strongly disagree</td>\n",
       "      <td>Strongly agree</td>\n",
       "      <td>Disagree</td>\n",
       "      <td>Strongly agree</td>\n",
       "      <td>NaN</td>\n",
       "      <td>NaN</td>\n",
       "    </tr>\n",
       "    <tr>\n",
       "      <th>1</th>\n",
       "      <td>2</td>\n",
       "      <td>Student</td>\n",
       "      <td>Yes, both</td>\n",
       "      <td>United Kingdom</td>\n",
       "      <td>Yes, full-time</td>\n",
       "      <td>Employed part-time</td>\n",
       "      <td>Some college/university study without earning ...</td>\n",
       "      <td>Computer science or software engineering</td>\n",
       "      <td>More than half, but not all, the time</td>\n",
       "      <td>20 to 99 employees</td>\n",
       "      <td>...</td>\n",
       "      <td>Strongly disagree</td>\n",
       "      <td>Male</td>\n",
       "      <td>A master's degree</td>\n",
       "      <td>White or of European descent</td>\n",
       "      <td>Somewhat agree</td>\n",
       "      <td>Somewhat agree</td>\n",
       "      <td>Disagree</td>\n",
       "      <td>Strongly agree</td>\n",
       "      <td>NaN</td>\n",
       "      <td>37500.0</td>\n",
       "    </tr>\n",
       "    <tr>\n",
       "      <th>2</th>\n",
       "      <td>3</td>\n",
       "      <td>Professional developer</td>\n",
       "      <td>Yes, both</td>\n",
       "      <td>United Kingdom</td>\n",
       "      <td>No</td>\n",
       "      <td>Employed full-time</td>\n",
       "      <td>Bachelor's degree</td>\n",
       "      <td>Computer science or software engineering</td>\n",
       "      <td>Less than half the time, but at least one day ...</td>\n",
       "      <td>10,000 or more employees</td>\n",
       "      <td>...</td>\n",
       "      <td>Disagree</td>\n",
       "      <td>Male</td>\n",
       "      <td>A professional degree</td>\n",
       "      <td>White or of European descent</td>\n",
       "      <td>Somewhat agree</td>\n",
       "      <td>Agree</td>\n",
       "      <td>Disagree</td>\n",
       "      <td>Agree</td>\n",
       "      <td>113750.0</td>\n",
       "      <td>NaN</td>\n",
       "    </tr>\n",
       "    <tr>\n",
       "      <th>3</th>\n",
       "      <td>4</td>\n",
       "      <td>Professional non-developer who sometimes write...</td>\n",
       "      <td>Yes, both</td>\n",
       "      <td>United States</td>\n",
       "      <td>No</td>\n",
       "      <td>Employed full-time</td>\n",
       "      <td>Doctoral degree</td>\n",
       "      <td>A non-computer-focused engineering discipline</td>\n",
       "      <td>Less than half the time, but at least one day ...</td>\n",
       "      <td>10,000 or more employees</td>\n",
       "      <td>...</td>\n",
       "      <td>Disagree</td>\n",
       "      <td>Male</td>\n",
       "      <td>A doctoral degree</td>\n",
       "      <td>White or of European descent</td>\n",
       "      <td>Agree</td>\n",
       "      <td>Agree</td>\n",
       "      <td>Somewhat agree</td>\n",
       "      <td>Strongly agree</td>\n",
       "      <td>NaN</td>\n",
       "      <td>NaN</td>\n",
       "    </tr>\n",
       "    <tr>\n",
       "      <th>4</th>\n",
       "      <td>5</td>\n",
       "      <td>Professional developer</td>\n",
       "      <td>Yes, I program as a hobby</td>\n",
       "      <td>Switzerland</td>\n",
       "      <td>No</td>\n",
       "      <td>Employed full-time</td>\n",
       "      <td>Master's degree</td>\n",
       "      <td>Computer science or software engineering</td>\n",
       "      <td>Never</td>\n",
       "      <td>10 to 19 employees</td>\n",
       "      <td>...</td>\n",
       "      <td>NaN</td>\n",
       "      <td>NaN</td>\n",
       "      <td>NaN</td>\n",
       "      <td>NaN</td>\n",
       "      <td>NaN</td>\n",
       "      <td>NaN</td>\n",
       "      <td>NaN</td>\n",
       "      <td>NaN</td>\n",
       "      <td>NaN</td>\n",
       "      <td>NaN</td>\n",
       "    </tr>\n",
       "  </tbody>\n",
       "</table>\n",
       "<p>5 rows × 154 columns</p>\n",
       "</div>"
      ],
      "text/plain": [
       "   Respondent                                       Professional  \\\n",
       "0           1                                            Student   \n",
       "1           2                                            Student   \n",
       "2           3                             Professional developer   \n",
       "3           4  Professional non-developer who sometimes write...   \n",
       "4           5                             Professional developer   \n",
       "\n",
       "                ProgramHobby         Country      University  \\\n",
       "0                  Yes, both   United States              No   \n",
       "1                  Yes, both  United Kingdom  Yes, full-time   \n",
       "2                  Yes, both  United Kingdom              No   \n",
       "3                  Yes, both   United States              No   \n",
       "4  Yes, I program as a hobby     Switzerland              No   \n",
       "\n",
       "                         EmploymentStatus  \\\n",
       "0  Not employed, and not looking for work   \n",
       "1                      Employed part-time   \n",
       "2                      Employed full-time   \n",
       "3                      Employed full-time   \n",
       "4                      Employed full-time   \n",
       "\n",
       "                                     FormalEducation  \\\n",
       "0                                   Secondary school   \n",
       "1  Some college/university study without earning ...   \n",
       "2                                  Bachelor's degree   \n",
       "3                                    Doctoral degree   \n",
       "4                                    Master's degree   \n",
       "\n",
       "                                  MajorUndergrad  \\\n",
       "0                                            NaN   \n",
       "1       Computer science or software engineering   \n",
       "2       Computer science or software engineering   \n",
       "3  A non-computer-focused engineering discipline   \n",
       "4       Computer science or software engineering   \n",
       "\n",
       "                                          HomeRemote  \\\n",
       "0                                                NaN   \n",
       "1              More than half, but not all, the time   \n",
       "2  Less than half the time, but at least one day ...   \n",
       "3  Less than half the time, but at least one day ...   \n",
       "4                                              Never   \n",
       "\n",
       "                CompanySize  ... StackOverflowMakeMoney Gender  \\\n",
       "0                       NaN  ...      Strongly disagree   Male   \n",
       "1        20 to 99 employees  ...      Strongly disagree   Male   \n",
       "2  10,000 or more employees  ...               Disagree   Male   \n",
       "3  10,000 or more employees  ...               Disagree   Male   \n",
       "4        10 to 19 employees  ...                    NaN    NaN   \n",
       "\n",
       "  HighestEducationParents                          Race         SurveyLong  \\\n",
       "0             High school  White or of European descent  Strongly disagree   \n",
       "1       A master's degree  White or of European descent     Somewhat agree   \n",
       "2   A professional degree  White or of European descent     Somewhat agree   \n",
       "3       A doctoral degree  White or of European descent              Agree   \n",
       "4                     NaN                           NaN                NaN   \n",
       "\n",
       "  QuestionsInteresting QuestionsConfusing InterestedAnswers    Salary  \\\n",
       "0       Strongly agree           Disagree    Strongly agree       NaN   \n",
       "1       Somewhat agree           Disagree    Strongly agree       NaN   \n",
       "2                Agree           Disagree             Agree  113750.0   \n",
       "3                Agree     Somewhat agree    Strongly agree       NaN   \n",
       "4                  NaN                NaN               NaN       NaN   \n",
       "\n",
       "   ExpectedSalary  \n",
       "0             NaN  \n",
       "1         37500.0  \n",
       "2             NaN  \n",
       "3             NaN  \n",
       "4             NaN  \n",
       "\n",
       "[5 rows x 154 columns]"
      ]
     },
     "execution_count": 189,
     "metadata": {},
     "output_type": "execute_result"
    }
   ],
   "source": [
    "df.head(5)"
   ]
  },
  {
   "cell_type": "code",
   "execution_count": 190,
   "metadata": {},
   "outputs": [
    {
     "name": "stdout",
     "output_type": "stream",
     "text": [
      "Survey dataframe shape: (51392, 154)\n"
     ]
    }
   ],
   "source": [
    "print(f'Survey dataframe shape: {df.shape}')"
   ]
  },
  {
   "cell_type": "code",
   "execution_count": 191,
   "metadata": {},
   "outputs": [
    {
     "data": {
      "text/html": [
       "<div>\n",
       "<style scoped>\n",
       "    .dataframe tbody tr th:only-of-type {\n",
       "        vertical-align: middle;\n",
       "    }\n",
       "\n",
       "    .dataframe tbody tr th {\n",
       "        vertical-align: top;\n",
       "    }\n",
       "\n",
       "    .dataframe thead th {\n",
       "        text-align: right;\n",
       "    }\n",
       "</style>\n",
       "<table border=\"1\" class=\"dataframe\">\n",
       "  <thead>\n",
       "    <tr style=\"text-align: right;\">\n",
       "      <th></th>\n",
       "      <th>Respondent</th>\n",
       "      <th>CareerSatisfaction</th>\n",
       "      <th>JobSatisfaction</th>\n",
       "      <th>HoursPerWeek</th>\n",
       "      <th>StackOverflowSatisfaction</th>\n",
       "      <th>Salary</th>\n",
       "      <th>ExpectedSalary</th>\n",
       "    </tr>\n",
       "  </thead>\n",
       "  <tbody>\n",
       "    <tr>\n",
       "      <th>count</th>\n",
       "      <td>51392.000000</td>\n",
       "      <td>42695.000000</td>\n",
       "      <td>40376.000000</td>\n",
       "      <td>20600.000000</td>\n",
       "      <td>36592.000000</td>\n",
       "      <td>12891.000000</td>\n",
       "      <td>2566.000000</td>\n",
       "    </tr>\n",
       "    <tr>\n",
       "      <th>mean</th>\n",
       "      <td>25696.500000</td>\n",
       "      <td>7.300574</td>\n",
       "      <td>6.957078</td>\n",
       "      <td>3.952282</td>\n",
       "      <td>8.429875</td>\n",
       "      <td>56298.480641</td>\n",
       "      <td>33142.220468</td>\n",
       "    </tr>\n",
       "    <tr>\n",
       "      <th>std</th>\n",
       "      <td>14835.736854</td>\n",
       "      <td>1.955444</td>\n",
       "      <td>2.167652</td>\n",
       "      <td>7.564722</td>\n",
       "      <td>1.390635</td>\n",
       "      <td>39880.905277</td>\n",
       "      <td>30162.988829</td>\n",
       "    </tr>\n",
       "    <tr>\n",
       "      <th>min</th>\n",
       "      <td>1.000000</td>\n",
       "      <td>0.000000</td>\n",
       "      <td>0.000000</td>\n",
       "      <td>0.000000</td>\n",
       "      <td>0.000000</td>\n",
       "      <td>0.000000</td>\n",
       "      <td>0.000000</td>\n",
       "    </tr>\n",
       "    <tr>\n",
       "      <th>25%</th>\n",
       "      <td>12848.750000</td>\n",
       "      <td>6.000000</td>\n",
       "      <td>6.000000</td>\n",
       "      <td>1.000000</td>\n",
       "      <td>8.000000</td>\n",
       "      <td>26440.371839</td>\n",
       "      <td>4490.492484</td>\n",
       "    </tr>\n",
       "    <tr>\n",
       "      <th>50%</th>\n",
       "      <td>25696.500000</td>\n",
       "      <td>8.000000</td>\n",
       "      <td>7.000000</td>\n",
       "      <td>1.000000</td>\n",
       "      <td>9.000000</td>\n",
       "      <td>50000.000000</td>\n",
       "      <td>29364.263691</td>\n",
       "    </tr>\n",
       "    <tr>\n",
       "      <th>75%</th>\n",
       "      <td>38544.250000</td>\n",
       "      <td>9.000000</td>\n",
       "      <td>8.000000</td>\n",
       "      <td>4.000000</td>\n",
       "      <td>10.000000</td>\n",
       "      <td>80000.000000</td>\n",
       "      <td>50403.225806</td>\n",
       "    </tr>\n",
       "    <tr>\n",
       "      <th>max</th>\n",
       "      <td>51392.000000</td>\n",
       "      <td>10.000000</td>\n",
       "      <td>10.000000</td>\n",
       "      <td>40.000000</td>\n",
       "      <td>10.000000</td>\n",
       "      <td>197000.000000</td>\n",
       "      <td>187500.000000</td>\n",
       "    </tr>\n",
       "  </tbody>\n",
       "</table>\n",
       "</div>"
      ],
      "text/plain": [
       "         Respondent  CareerSatisfaction  JobSatisfaction  HoursPerWeek  \\\n",
       "count  51392.000000        42695.000000     40376.000000  20600.000000   \n",
       "mean   25696.500000            7.300574         6.957078      3.952282   \n",
       "std    14835.736854            1.955444         2.167652      7.564722   \n",
       "min        1.000000            0.000000         0.000000      0.000000   \n",
       "25%    12848.750000            6.000000         6.000000      1.000000   \n",
       "50%    25696.500000            8.000000         7.000000      1.000000   \n",
       "75%    38544.250000            9.000000         8.000000      4.000000   \n",
       "max    51392.000000           10.000000        10.000000     40.000000   \n",
       "\n",
       "       StackOverflowSatisfaction         Salary  ExpectedSalary  \n",
       "count               36592.000000   12891.000000     2566.000000  \n",
       "mean                    8.429875   56298.480641    33142.220468  \n",
       "std                     1.390635   39880.905277    30162.988829  \n",
       "min                     0.000000       0.000000        0.000000  \n",
       "25%                     8.000000   26440.371839     4490.492484  \n",
       "50%                     9.000000   50000.000000    29364.263691  \n",
       "75%                    10.000000   80000.000000    50403.225806  \n",
       "max                    10.000000  197000.000000   187500.000000  "
      ]
     },
     "execution_count": 191,
     "metadata": {},
     "output_type": "execute_result"
    }
   ],
   "source": [
    "df.describe()"
   ]
  },
  {
   "cell_type": "code",
   "execution_count": 192,
   "metadata": {},
   "outputs": [
    {
     "name": "stdout",
     "output_type": "stream",
     "text": [
      "Respondent                              0\n",
      "Professional                            0\n",
      "ProgramHobby                            0\n",
      "Country                                 0\n",
      "University                              0\n",
      "EmploymentStatus                        0\n",
      "FormalEducation                         0\n",
      "MajorUndergrad                       8551\n",
      "HomeRemote                           7384\n",
      "CompanySize                         12470\n",
      "CompanyType                         12569\n",
      "YearsProgram                          247\n",
      "YearsCodedJob                       10502\n",
      "YearsCodedJobPast                   50418\n",
      "DeveloperType                       15267\n",
      "WebDeveloperType                    40696\n",
      "MobileDeveloperType                 49839\n",
      "NonDeveloperType                    46502\n",
      "CareerSatisfaction                   8697\n",
      "JobSatisfaction                     11016\n",
      "ExCoderReturn                       50469\n",
      "ExCoderNotForMe                     50471\n",
      "ExCoderBalance                      50469\n",
      "ExCoder10Years                      50475\n",
      "ExCoderBelonged                     50464\n",
      "ExCoderSkills                       50457\n",
      "ExCoderWillNotCode                  50470\n",
      "ExCoderActive                       50462\n",
      "PronounceGIF                          384\n",
      "ProblemSolving                      20099\n",
      "BuildingThings                      20158\n",
      "LearningNewTech                     20088\n",
      "BoringDetails                       20208\n",
      "JobSecurity                         20152\n",
      "DiversityImportant                  20489\n",
      "AnnoyingUI                          20371\n",
      "FriendsDevelopers                   20335\n",
      "RightWrongWay                       20408\n",
      "UnderstandComputers                 20345\n",
      "SeriousWork                         20378\n",
      "InvestTimeTools                     20506\n",
      "WorkPayCare                         20427\n",
      "KinshipDevelopers                   20690\n",
      "ChallengeMyself                     20421\n",
      "CompetePeers                        20582\n",
      "ChangeWorld                         20457\n",
      "JobSeekingStatus                    18012\n",
      "HoursPerWeek                        30792\n",
      "LastNewJob                          18682\n",
      "AssessJobIndustry                   29262\n",
      "AssessJobRole                       29245\n",
      "AssessJobExp                        29256\n",
      "AssessJobDept                       29269\n",
      "AssessJobTech                       29203\n",
      "AssessJobProjects                   29209\n",
      "AssessJobCompensation               29246\n",
      "AssessJobOffice                     29388\n",
      "AssessJobCommute                    29419\n",
      "AssessJobRemote                     29372\n",
      "AssessJobLeaders                    29406\n",
      "AssessJobProfDevel                  29394\n",
      "AssessJobDiversity                  29414\n",
      "AssessJobProduct                    29395\n",
      "AssessJobFinances                   29369\n",
      "ImportantBenefits                   21157\n",
      "ClickyKeys                           9346\n",
      "JobProfile                          26673\n",
      "ResumePrompted                      28931\n",
      "LearnedHiring                       27655\n",
      "ImportantHiringAlgorithms           22750\n",
      "ImportantHiringTechExp              22698\n",
      "ImportantHiringCommunication        22753\n",
      "ImportantHiringOpenSource           22796\n",
      "ImportantHiringPMExp                22775\n",
      "ImportantHiringCompanies            22839\n",
      "ImportantHiringTitles               22839\n",
      "ImportantHiringEducation            22729\n",
      "ImportantHiringRep                  22774\n",
      "ImportantHiringGettingThingsDone    22847\n",
      "Currency                            29984\n",
      "Overpaid                            38005\n",
      "TabsSpaces                          12541\n",
      "EducationImportant                  28037\n",
      "EducationTypes                      21038\n",
      "SelfTaughtTypes                     24657\n",
      "TimeAfterBootcamp                   48790\n",
      "CousinEducation                     27824\n",
      "WorkStart                           14696\n",
      "HaveWorkedLanguage                  14767\n",
      "WantWorkLanguage                    17621\n",
      "HaveWorkedFramework                 31163\n",
      "WantWorkFramework                   28061\n",
      "HaveWorkedDatabase                  21940\n",
      "WantWorkDatabase                    26283\n",
      "HaveWorkedPlatform                  22278\n",
      "WantWorkPlatform                    23508\n",
      "IDE                                 15562\n",
      "AuditoryEnvironment                 14935\n",
      "Methodology                         25621\n",
      "VersionControl                      20662\n",
      "CheckInCode                         21831\n",
      "ShipIt                              21751\n",
      "OtherPeoplesCode                    21773\n",
      "ProjectManagement                   21993\n",
      "EnjoyDebugging                      21627\n",
      "InTheZone                           22042\n",
      "DifficultCommunication              21752\n",
      "CollaborateRemote                   21935\n",
      "MetricAssess                        25920\n",
      "EquipmentSatisfiedMonitors          21667\n",
      "EquipmentSatisfiedCPU               21665\n",
      "EquipmentSatisfiedRAM               21656\n",
      "EquipmentSatisfiedStorage           21721\n",
      "EquipmentSatisfiedRW                21703\n",
      "InfluenceInternet                   21701\n",
      "InfluenceWorkstation                29734\n",
      "InfluenceHardware                   29733\n",
      "InfluenceServers                    29808\n",
      "InfluenceTechStack                  29791\n",
      "InfluenceDeptTech                   29799\n",
      "InfluenceVizTools                   29779\n",
      "InfluenceDatabase                   29776\n",
      "InfluenceCloud                      29797\n",
      "InfluenceConsultants                29847\n",
      "InfluenceRecruitment                29806\n",
      "InfluenceCommunication              29814\n",
      "StackOverflowDescribes              14460\n",
      "StackOverflowSatisfaction           14800\n",
      "StackOverflowDevices                16189\n",
      "StackOverflowFoundAnswer            17102\n",
      "StackOverflowCopiedCode             17483\n",
      "StackOverflowJobListing             17924\n",
      "StackOverflowCompanyPage            17957\n",
      "StackOverflowJobSearch              17977\n",
      "StackOverflowNewQuestion            17774\n",
      "StackOverflowAnswer                 17836\n",
      "StackOverflowMetaChat               17985\n",
      "StackOverflowAdsRelevant            20575\n",
      "StackOverflowAdsDistracting         19655\n",
      "StackOverflowModeration             21263\n",
      "StackOverflowCommunity              18982\n",
      "StackOverflowHelpful                17446\n",
      "StackOverflowBetter                 17742\n",
      "StackOverflowWhatDo                 18023\n",
      "StackOverflowMakeMoney              20330\n",
      "Gender                              16345\n",
      "HighestEducationParents             16454\n",
      "Race                                18359\n",
      "SurveyLong                          16672\n",
      "QuestionsInteresting                16856\n",
      "QuestionsConfusing                  16973\n",
      "InterestedAnswers                   16780\n",
      "Salary                              38501\n",
      "ExpectedSalary                      48826\n",
      "dtype: int64\n"
     ]
    }
   ],
   "source": [
    "# Check null values in Survey data\n",
    "print(df.isnull().sum())"
   ]
  },
  {
   "cell_type": "markdown",
   "metadata": {},
   "source": [
    "After exploring the data, I have came to the decision to use only the below columns to answer the all questions above:\n",
    "- HomeRemote\n",
    "- Country\n",
    "- JobSatisfaction\n",
    "- CompanySize\n",
    "- CompanyType\n",
    "- JobSecurity\n",
    "- SeriousWork\n",
    "- HoursPerWeek\n",
    "- DifficultCommunication\n",
    "- CollaborateRemote\n",
    "- EmploymentStatus"
   ]
  },
  {
   "cell_type": "markdown",
   "metadata": {},
   "source": [
    "### Question 1: Which nations encourage working from home the most?\n",
    "When looking into the dataset, I see 'HomeRemote' and 'Country' column contains pretty useful information to answer this question. The following cells will prepare data to answer the first question."
   ]
  },
  {
   "cell_type": "code",
   "execution_count": 193,
   "metadata": {},
   "outputs": [
    {
     "data": {
      "image/png": "[encoded data removed]",
      "text/plain": [
       "<Figure size 432x288 with 1 Axes>"
      ]
     },
     "metadata": {
      "needs_background": "light"
     },
     "output_type": "display_data"
    }
   ],
   "source": [
    "fig = sns.countplot(data = df, y = 'HomeRemote', color=sns.color_palette()[1])\n",
    "fig.set_xlabel('Count')\n",
    "fig.set_ylabel('Home Remote Category');"
   ]
  },
  {
   "cell_type": "markdown",
   "metadata": {},
   "source": [
    "Drop the row with NaN value in 'HomeRemote' or 'Country' column"
   ]
  },
  {
   "cell_type": "code",
   "execution_count": 194,
   "metadata": {},
   "outputs": [],
   "source": [
    "df_q1 = df.dropna(axis=0, subset=['Country', \"HomeRemote\"])"
   ]
  },
  {
   "cell_type": "markdown",
   "metadata": {},
   "source": [
    "Drop the row with \"It's complicated\" answer in 'HomeRemote' since it's not provided any useful insight for us"
   ]
  },
  {
   "cell_type": "code",
   "execution_count": 195,
   "metadata": {},
   "outputs": [],
   "source": [
    "\n",
    "df_q1 = df_q1[df_q1['HomeRemote'] != \"It's complicated\"]"
   ]
  },
  {
   "cell_type": "markdown",
   "metadata": {},
   "source": [
    "To avoid bias, I will only choose 'Country' with more than 300 responses in the survey."
   ]
  },
  {
   "cell_type": "code",
   "execution_count": 196,
   "metadata": {},
   "outputs": [],
   "source": [
    "country_count = df_q1['Country'].value_counts()\n",
    "country_count = country_count[country_count>=300]\n",
    "country_keep = list(country_count.index)"
   ]
  },
  {
   "cell_type": "code",
   "execution_count": 197,
   "metadata": {},
   "outputs": [],
   "source": [
    "df_q1 = df_q1[df_q1['Country'].isin(country_keep)]"
   ]
  },
  {
   "cell_type": "markdown",
   "metadata": {},
   "source": [
    "Create a new column 'WFH' to check whether the developer is work from home"
   ]
  },
  {
   "cell_type": "code",
   "execution_count": 198,
   "metadata": {},
   "outputs": [],
   "source": [
    "df_q1['WFH'] =  df_q1['HomeRemote'].isin(['About half the time', \n",
    "                                                     \"All or almost all the time (I'm full-time remote)\",\n",
    "                                                     \"More than half, but not all, the time\",\n",
    "                                                     \"Less than half the time, but at least one day each week\"])"
   ]
  },
  {
   "cell_type": "markdown",
   "metadata": {},
   "source": [
    "I will calculate total of people who work from home for each country and sort the result in descending order in order to see the top countries with highest proportion of WFH rate in the chart"
   ]
  },
  {
   "cell_type": "code",
   "execution_count": 199,
   "metadata": {},
   "outputs": [],
   "source": [
    "country_wfh_df = df_q1.groupby(['Country'])['WFH'].mean().sort_values(ascending = False)"
   ]
  },
  {
   "cell_type": "code",
   "execution_count": 200,
   "metadata": {},
   "outputs": [
    {
     "data": {
      "text/plain": [
       "Text(0.5, 1.0, 'Work From Home ratio in each country chart')"
      ]
     },
     "execution_count": 200,
     "metadata": {},
     "output_type": "execute_result"
    },
    {
     "data": {
      "image/png": "[encoded data removed]",
      "text/plain": [
       "<Figure size 1152x720 with 1 Axes>"
      ]
     },
     "metadata": {
      "needs_background": "light"
     },
     "output_type": "display_data"
    }
   ],
   "source": [
    "plt.figure(figsize=[16,10])\n",
    "sns.barplot(y=country_wfh_df.index, x=country_wfh_df, color=sns.color_palette()[1])\n",
    "plt.title(\"Work From Home ratio in each country chart\")"
   ]
  },
  {
   "cell_type": "markdown",
   "metadata": {},
   "source": [
    ">**Question 1 conclusion**:  \n",
    ">In the chart above we can see that the top country that are more popular with Work From Home are: Iran, Pakistan, Czech Republic and Ukraine."
   ]
  },
  {
   "cell_type": "markdown",
   "metadata": {},
   "source": [
    "### Question 2: Impact of Work From Home on Job Satisfaction\n",
    "With this question, I decide to use mainly 2 columns: 'WFH' column created above and 'JobSatisfaction' column. I will perform hypothesis test on two group: WFH and not WFH on the mean of Job Satisfaction."
   ]
  },
  {
   "cell_type": "markdown",
   "metadata": {},
   "source": [
    "Drop the row with NaN value in 'JobSatisfaction' column"
   ]
  },
  {
   "cell_type": "code",
   "execution_count": 201,
   "metadata": {},
   "outputs": [],
   "source": [
    "df_wfh_jobsatis = df_q1.dropna(subset=['JobSatisfaction'])\n",
    "df_wfh_jobsatis = df_wfh_jobsatis[['Respondent','JobSatisfaction', 'WFH']]"
   ]
  },
  {
   "cell_type": "markdown",
   "metadata": {},
   "source": [
    "Caculate the mean of 'JobSatisfaction' column"
   ]
  },
  {
   "cell_type": "code",
   "execution_count": 202,
   "metadata": {},
   "outputs": [
    {
     "data": {
      "text/plain": [
       "6.997317322432294"
      ]
     },
     "execution_count": 202,
     "metadata": {},
     "output_type": "execute_result"
    }
   ],
   "source": [
    "df_wfh_jobsatis['JobSatisfaction'].mean()"
   ]
  },
  {
   "cell_type": "code",
   "execution_count": 203,
   "metadata": {},
   "outputs": [],
   "source": [
    "# Create a sampling distribution of the difference in proportions with bootstrapping\n",
    "diffs = []\n",
    "size = df_wfh_jobsatis.shape[0]\n",
    "for _ in range(10000):\n",
    "    b_samp = df_wfh_jobsatis.sample(size, replace=True)\n",
    "    wfh_df = b_samp.query('WFH == 1')\n",
    "    not_wfh_df = b_samp.query('WFH == 0')\n",
    "    wfh_js = wfh_df['JobSatisfaction'].mean()\n",
    "    not_wfh_js = not_wfh_df['JobSatisfaction'].mean()\n",
    "    diffs.append(wfh_js - not_wfh_js)"
   ]
  },
  {
   "cell_type": "code",
   "execution_count": 204,
   "metadata": {},
   "outputs": [
    {
     "data": {
      "image/png": "[encoded data removed]",
      "text/plain": [
       "<Figure size 1152x648 with 1 Axes>"
      ]
     },
     "metadata": {
      "needs_background": "light"
     },
     "output_type": "display_data"
    }
   ],
   "source": [
    "diffs = np.array(diffs)\n",
    "plt.figure(figsize=[16,9])\n",
    "plt.hist(diffs, bins=50)\n",
    "plt.title('Difference in the mean of Job Satifaction Score between work from home group and non work from home group');"
   ]
  },
  {
   "cell_type": "code",
   "execution_count": 205,
   "metadata": {},
   "outputs": [],
   "source": [
    "# Calculate the observed difference on mean of Job Satisfaction Score between work from home group and non work from home group\n",
    "js_wfh = df_wfh_jobsatis.query('WFH == 1')['JobSatisfaction'].mean()\n",
    "js_not_wfh = df_wfh_jobsatis.query('WFH == 0')['JobSatisfaction'].mean()\n",
    "\n",
    "observation_diff = js_wfh - js_not_wfh"
   ]
  },
  {
   "cell_type": "code",
   "execution_count": 206,
   "metadata": {},
   "outputs": [],
   "source": [
    "# Simulate distribution under the null hypothesis\n",
    "null_vals = np.random.normal(0, diffs.std(), diffs.size)"
   ]
  },
  {
   "cell_type": "code",
   "execution_count": 207,
   "metadata": {},
   "outputs": [
    {
     "data": {
      "text/plain": [
       "<matplotlib.lines.Line2D at 0x7f8d9436da90>"
      ]
     },
     "execution_count": 207,
     "metadata": {},
     "output_type": "execute_result"
    },
    {
     "data": {
      "image/png": "[encoded data removed]",
      "text/plain": [
       "<Figure size 432x288 with 1 Axes>"
      ]
     },
     "metadata": {
      "needs_background": "light"
     },
     "output_type": "display_data"
    }
   ],
   "source": [
    "plt.hist(null_vals, bins=30)\n",
    "plt.axvline(observation_diff, c='red')"
   ]
  },
  {
   "cell_type": "code",
   "execution_count": 208,
   "metadata": {},
   "outputs": [
    {
     "data": {
      "text/plain": [
       "0.0"
      ]
     },
     "execution_count": 208,
     "metadata": {},
     "output_type": "execute_result"
    }
   ],
   "source": [
    "# P-Value\n",
    "(null_vals > observation_diff).mean()"
   ]
  },
  {
   "cell_type": "markdown",
   "metadata": {},
   "source": [
    ">**Question 2 conclusion**:  \n",
    ">The null hypothesis can be rejected since the P-value is practically zero. It is evident that workers who work from home have much greater overall job satisfaction score than those who do not."
   ]
  },
  {
   "cell_type": "markdown",
   "metadata": {},
   "source": [
    "### Question 3: How can I find a job as a freelance developer?\n",
    "To answer this last question, I came up with the idea of using these columns: `WFH`, `Country`, `CompanySize`, `CompanyType`, `JobSecurity`, `SeriousWork`, `HoursPerWeek`, `DifficultCommunication`, `CollaborateRemote`, `EmploymentStatus`"
   ]
  },
  {
   "cell_type": "markdown",
   "metadata": {},
   "source": [
    "I create a new dataframe with only people who are currently employed"
   ]
  },
  {
   "cell_type": "code",
   "execution_count": 209,
   "metadata": {},
   "outputs": [],
   "source": [
    "df_q3 = df_q1[df_q1['EmploymentStatus'].isin(['Employed part-time', \n",
    "                                                 'Employed full-time'])]"
   ]
  },
  {
   "cell_type": "markdown",
   "metadata": {},
   "source": [
    "Use only columns I have mentioned above"
   ]
  },
  {
   "cell_type": "code",
   "execution_count": 210,
   "metadata": {},
   "outputs": [],
   "source": [
    "df_q3 = df_q3[['WFH', 'Country', 'CompanySize', 'CompanyType', \n",
    "                      'JobSecurity', 'SeriousWork', 'HoursPerWeek', 'DifficultCommunication', \n",
    "                      'CollaborateRemote', 'EmploymentStatus']]"
   ]
  },
  {
   "cell_type": "markdown",
   "metadata": {},
   "source": [
    "Perform some cleaning before further deep analysis"
   ]
  },
  {
   "cell_type": "code",
   "execution_count": 211,
   "metadata": {},
   "outputs": [],
   "source": [
    "# Tranform CompanySize values to numerical values\n",
    "df_q3 = df_q3.replace({'CompanySize': {'Fewer than 10 employees': 1, \n",
    "                                                   '10 to 19 employees': 2,\n",
    "                                                  '20 to 99 employees': 3,\n",
    "                                                  '100 to 499 employees': 4,\n",
    "                                                  '500 to 999 employees': 5,\n",
    "                                                  '1,000 to 4,999 employees': 6,\n",
    "                                                  '5,000 to 9,999 employees': 7,\n",
    "                                                  '10,000 or more employees': 8,\n",
    "                                                  \"I don't know\": np.nan,\n",
    "                                                  'I prefer not to answer': np.nan}})"
   ]
  },
  {
   "cell_type": "code",
   "execution_count": 212,
   "metadata": {},
   "outputs": [],
   "source": [
    "# Clean up CompanyType data\n",
    "df_q3 = df_q3.replace({'CompanyType': {\"I don't know\": 'other',\n",
    "                                    'I prefer not to answer': 'other',\n",
    "                                    'Something else': 'other',\n",
    "                                    np.nan: 'other'}})\\\n",
    "            .replace({'Strongly disagree': 1, \n",
    "                    'Disagree': 2,\n",
    "                    'Somewhat agree': 3,\n",
    "                    'Agree': 4,\n",
    "                    'Strongly agree': 5,})"
   ]
  },
  {
   "cell_type": "code",
   "execution_count": 213,
   "metadata": {},
   "outputs": [],
   "source": [
    "# Perform interpolation with median\n",
    "df_q3 = df_q3.fillna(df_q3.median())"
   ]
  },
  {
   "cell_type": "code",
   "execution_count": 214,
   "metadata": {},
   "outputs": [],
   "source": [
    "# Split the data into feature dataframe and target dataframe\n",
    "X = df_q3.drop('WFH', axis = 1)\n",
    "Y = df_q3['WFH']"
   ]
  },
  {
   "cell_type": "code",
   "execution_count": 215,
   "metadata": {},
   "outputs": [],
   "source": [
    "X = pd.get_dummies(X)"
   ]
  },
  {
   "cell_type": "code",
   "execution_count": 216,
   "metadata": {},
   "outputs": [],
   "source": [
    "# Split data into train and test set\n",
    "X_train, X_test, y_train, y_test = train_test_split(X, \n",
    "                                                    Y, \n",
    "                                                    test_size = 0.2, \n",
    "                                                    random_state = 43)"
   ]
  },
  {
   "cell_type": "code",
   "execution_count": 217,
   "metadata": {},
   "outputs": [],
   "source": [
    "lg_model = LogisticRegression(solver='lbfgs', max_iter=10000,random_state=43)\n",
    "results = {}\n",
    "    \n",
    "hist = lg_model.fit(X_train, y_train)\n",
    "predictions_test = lg_model.predict(X_test)\n",
    "predictions_train = lg_model.predict(X_train[:300])\n",
    "\n",
    "# Compute accuracy on the first 300 training samples which is y_train[:300]\n",
    "results['acc_train'] = accuracy_score(y_train[:300], predictions_train)\n",
    "    \n",
    "# Compute accuracy on test set using accuracy_score()\n",
    "results['acc_test'] = accuracy_score(y_test, predictions_test)\n",
    "    "
   ]
  },
  {
   "cell_type": "code",
   "execution_count": 218,
   "metadata": {},
   "outputs": [
    {
     "data": {
      "text/plain": [
       "{'acc_train': 0.7866666666666666, 'acc_test': 0.7647058823529411}"
      ]
     },
     "execution_count": 218,
     "metadata": {},
     "output_type": "execute_result"
    }
   ],
   "source": [
    "results"
   ]
  },
  {
   "cell_type": "code",
   "execution_count": 219,
   "metadata": {},
   "outputs": [],
   "source": [
    "coefficients = pd.concat([pd.DataFrame({'Feature': X.columns}),\n",
    "                          pd.DataFrame(np.transpose(lg_model.coef_))], axis = 1)"
   ]
  },
  {
   "cell_type": "code",
   "execution_count": 220,
   "metadata": {},
   "outputs": [
    {
     "data": {
      "text/html": [
       "<div>\n",
       "<style scoped>\n",
       "    .dataframe tbody tr th:only-of-type {\n",
       "        vertical-align: middle;\n",
       "    }\n",
       "\n",
       "    .dataframe tbody tr th {\n",
       "        vertical-align: top;\n",
       "    }\n",
       "\n",
       "    .dataframe thead th {\n",
       "        text-align: right;\n",
       "    }\n",
       "</style>\n",
       "<table border=\"1\" class=\"dataframe\">\n",
       "  <thead>\n",
       "    <tr style=\"text-align: right;\">\n",
       "      <th></th>\n",
       "      <th>Feature</th>\n",
       "      <th>Coefficient</th>\n",
       "    </tr>\n",
       "  </thead>\n",
       "  <tbody>\n",
       "    <tr>\n",
       "      <th>20</th>\n",
       "      <td>Country_Pakistan</td>\n",
       "      <td>0.750866</td>\n",
       "    </tr>\n",
       "    <tr>\n",
       "      <th>15</th>\n",
       "      <td>Country_Iran</td>\n",
       "      <td>0.647215</td>\n",
       "    </tr>\n",
       "    <tr>\n",
       "      <th>11</th>\n",
       "      <td>Country_Czech Republic</td>\n",
       "      <td>0.497057</td>\n",
       "    </tr>\n",
       "    <tr>\n",
       "      <th>28</th>\n",
       "      <td>Country_Ukraine</td>\n",
       "      <td>0.469366</td>\n",
       "    </tr>\n",
       "    <tr>\n",
       "      <th>41</th>\n",
       "      <td>EmploymentStatus_Employed part-time</td>\n",
       "      <td>0.460758</td>\n",
       "    </tr>\n",
       "    <tr>\n",
       "      <th>30</th>\n",
       "      <td>Country_United States</td>\n",
       "      <td>0.451660</td>\n",
       "    </tr>\n",
       "    <tr>\n",
       "      <th>23</th>\n",
       "      <td>Country_Russian Federation</td>\n",
       "      <td>0.429571</td>\n",
       "    </tr>\n",
       "    <tr>\n",
       "      <th>14</th>\n",
       "      <td>Country_India</td>\n",
       "      <td>0.348628</td>\n",
       "    </tr>\n",
       "    <tr>\n",
       "      <th>31</th>\n",
       "      <td>CompanyType_Government agency or public school...</td>\n",
       "      <td>0.247695</td>\n",
       "    </tr>\n",
       "    <tr>\n",
       "      <th>18</th>\n",
       "      <td>Country_Mexico</td>\n",
       "      <td>0.185575</td>\n",
       "    </tr>\n",
       "    <tr>\n",
       "      <th>33</th>\n",
       "      <td>CompanyType_Pre-series A startup</td>\n",
       "      <td>0.175286</td>\n",
       "    </tr>\n",
       "    <tr>\n",
       "      <th>2</th>\n",
       "      <td>SeriousWork</td>\n",
       "      <td>0.162155</td>\n",
       "    </tr>\n",
       "    <tr>\n",
       "      <th>37</th>\n",
       "      <td>CompanyType_State-owned company</td>\n",
       "      <td>0.115579</td>\n",
       "    </tr>\n",
       "    <tr>\n",
       "      <th>32</th>\n",
       "      <td>CompanyType_Non-profit/non-governmental organi...</td>\n",
       "      <td>0.113318</td>\n",
       "    </tr>\n",
       "    <tr>\n",
       "      <th>21</th>\n",
       "      <td>Country_Poland</td>\n",
       "      <td>0.104324</td>\n",
       "    </tr>\n",
       "    <tr>\n",
       "      <th>6</th>\n",
       "      <td>Country_Australia</td>\n",
       "      <td>0.059141</td>\n",
       "    </tr>\n",
       "    <tr>\n",
       "      <th>38</th>\n",
       "      <td>CompanyType_Venture-funded startup</td>\n",
       "      <td>0.029571</td>\n",
       "    </tr>\n",
       "    <tr>\n",
       "      <th>35</th>\n",
       "      <td>CompanyType_Publicly-traded corporation</td>\n",
       "      <td>0.024392</td>\n",
       "    </tr>\n",
       "    <tr>\n",
       "      <th>3</th>\n",
       "      <td>HoursPerWeek</td>\n",
       "      <td>0.007623</td>\n",
       "    </tr>\n",
       "    <tr>\n",
       "      <th>4</th>\n",
       "      <td>DifficultCommunication</td>\n",
       "      <td>-0.024793</td>\n",
       "    </tr>\n",
       "    <tr>\n",
       "      <th>22</th>\n",
       "      <td>Country_Romania</td>\n",
       "      <td>-0.027369</td>\n",
       "    </tr>\n",
       "    <tr>\n",
       "      <th>24</th>\n",
       "      <td>Country_South Africa</td>\n",
       "      <td>-0.033026</td>\n",
       "    </tr>\n",
       "    <tr>\n",
       "      <th>10</th>\n",
       "      <td>Country_Canada</td>\n",
       "      <td>-0.047845</td>\n",
       "    </tr>\n",
       "    <tr>\n",
       "      <th>16</th>\n",
       "      <td>Country_Israel</td>\n",
       "      <td>-0.054111</td>\n",
       "    </tr>\n",
       "    <tr>\n",
       "      <th>1</th>\n",
       "      <td>JobSecurity</td>\n",
       "      <td>-0.054151</td>\n",
       "    </tr>\n",
       "    <tr>\n",
       "      <th>0</th>\n",
       "      <td>CompanySize</td>\n",
       "      <td>-0.095955</td>\n",
       "    </tr>\n",
       "    <tr>\n",
       "      <th>29</th>\n",
       "      <td>Country_United Kingdom</td>\n",
       "      <td>-0.099861</td>\n",
       "    </tr>\n",
       "    <tr>\n",
       "      <th>36</th>\n",
       "      <td>CompanyType_Sole proprietorship or partnership...</td>\n",
       "      <td>-0.103848</td>\n",
       "    </tr>\n",
       "    <tr>\n",
       "      <th>19</th>\n",
       "      <td>Country_Netherlands</td>\n",
       "      <td>-0.145745</td>\n",
       "    </tr>\n",
       "    <tr>\n",
       "      <th>34</th>\n",
       "      <td>CompanyType_Privately-held limited company, no...</td>\n",
       "      <td>-0.184329</td>\n",
       "    </tr>\n",
       "    <tr>\n",
       "      <th>39</th>\n",
       "      <td>CompanyType_other</td>\n",
       "      <td>-0.205895</td>\n",
       "    </tr>\n",
       "    <tr>\n",
       "      <th>9</th>\n",
       "      <td>Country_Brazil</td>\n",
       "      <td>-0.208906</td>\n",
       "    </tr>\n",
       "    <tr>\n",
       "      <th>40</th>\n",
       "      <td>EmploymentStatus_Employed full-time</td>\n",
       "      <td>-0.248989</td>\n",
       "    </tr>\n",
       "    <tr>\n",
       "      <th>17</th>\n",
       "      <td>Country_Italy</td>\n",
       "      <td>-0.255948</td>\n",
       "    </tr>\n",
       "    <tr>\n",
       "      <th>13</th>\n",
       "      <td>Country_Germany</td>\n",
       "      <td>-0.294321</td>\n",
       "    </tr>\n",
       "    <tr>\n",
       "      <th>12</th>\n",
       "      <td>Country_France</td>\n",
       "      <td>-0.305336</td>\n",
       "    </tr>\n",
       "    <tr>\n",
       "      <th>25</th>\n",
       "      <td>Country_Spain</td>\n",
       "      <td>-0.335301</td>\n",
       "    </tr>\n",
       "    <tr>\n",
       "      <th>8</th>\n",
       "      <td>Country_Belgium</td>\n",
       "      <td>-0.403540</td>\n",
       "    </tr>\n",
       "    <tr>\n",
       "      <th>5</th>\n",
       "      <td>CollaborateRemote</td>\n",
       "      <td>-0.428764</td>\n",
       "    </tr>\n",
       "    <tr>\n",
       "      <th>27</th>\n",
       "      <td>Country_Switzerland</td>\n",
       "      <td>-0.434206</td>\n",
       "    </tr>\n",
       "    <tr>\n",
       "      <th>26</th>\n",
       "      <td>Country_Sweden</td>\n",
       "      <td>-0.503264</td>\n",
       "    </tr>\n",
       "    <tr>\n",
       "      <th>7</th>\n",
       "      <td>Country_Austria</td>\n",
       "      <td>-0.582856</td>\n",
       "    </tr>\n",
       "  </tbody>\n",
       "</table>\n",
       "</div>"
      ],
      "text/plain": [
       "                                              Feature  Coefficient\n",
       "20                                   Country_Pakistan     0.750866\n",
       "15                                       Country_Iran     0.647215\n",
       "11                             Country_Czech Republic     0.497057\n",
       "28                                    Country_Ukraine     0.469366\n",
       "41                EmploymentStatus_Employed part-time     0.460758\n",
       "30                              Country_United States     0.451660\n",
       "23                         Country_Russian Federation     0.429571\n",
       "14                                      Country_India     0.348628\n",
       "31  CompanyType_Government agency or public school...     0.247695\n",
       "18                                     Country_Mexico     0.185575\n",
       "33                   CompanyType_Pre-series A startup     0.175286\n",
       "2                                         SeriousWork     0.162155\n",
       "37                    CompanyType_State-owned company     0.115579\n",
       "32  CompanyType_Non-profit/non-governmental organi...     0.113318\n",
       "21                                     Country_Poland     0.104324\n",
       "6                                   Country_Australia     0.059141\n",
       "38                 CompanyType_Venture-funded startup     0.029571\n",
       "35            CompanyType_Publicly-traded corporation     0.024392\n",
       "3                                        HoursPerWeek     0.007623\n",
       "4                              DifficultCommunication    -0.024793\n",
       "22                                    Country_Romania    -0.027369\n",
       "24                               Country_South Africa    -0.033026\n",
       "10                                     Country_Canada    -0.047845\n",
       "16                                     Country_Israel    -0.054111\n",
       "1                                         JobSecurity    -0.054151\n",
       "0                                         CompanySize    -0.095955\n",
       "29                             Country_United Kingdom    -0.099861\n",
       "36  CompanyType_Sole proprietorship or partnership...    -0.103848\n",
       "19                                Country_Netherlands    -0.145745\n",
       "34  CompanyType_Privately-held limited company, no...    -0.184329\n",
       "39                                  CompanyType_other    -0.205895\n",
       "9                                      Country_Brazil    -0.208906\n",
       "40                EmploymentStatus_Employed full-time    -0.248989\n",
       "17                                      Country_Italy    -0.255948\n",
       "13                                    Country_Germany    -0.294321\n",
       "12                                     Country_France    -0.305336\n",
       "25                                      Country_Spain    -0.335301\n",
       "8                                     Country_Belgium    -0.403540\n",
       "5                                   CollaborateRemote    -0.428764\n",
       "27                                Country_Switzerland    -0.434206\n",
       "26                                     Country_Sweden    -0.503264\n",
       "7                                     Country_Austria    -0.582856"
      ]
     },
     "execution_count": 220,
     "metadata": {},
     "output_type": "execute_result"
    }
   ],
   "source": [
    "coefficients.rename(columns={0:'Coefficient'}, inplace=True)\n",
    "coefficients.sort_values(by=['Coefficient'], ascending=False)"
   ]
  },
  {
   "cell_type": "markdown",
   "metadata": {},
   "source": [
    ">**Question 3 conclusion**:  \n",
    ">I use the logistic regression model to fit the data. These characteristics below are more likely to result in a work from home employment, as can be shown from the logistic regression model's coefficients:\n",
    ">- People who worked in countries: Iran, Pakistan, Ukraine.\n",
    ">- Developers whose current employed status is Part-time \n",
    ">- Developers with serious attitude with theirs job\n"
   ]
  }
 ],
 "metadata": {
  "kernelspec": {
   "display_name": "Python 3.6.13 ('ds_uda': conda)",
   "language": "python",
   "name": "python3"
  },
  "language_info": {
   "codemirror_mode": {
    "name": "ipython",
    "version": 3
   },
   "file_extension": ".py",
   "mimetype": "text/x-python",
   "name": "python",
   "nbconvert_exporter": "python",
   "pygments_lexer": "ipython3",
   "version": "3.6.13"
  },
  "orig_nbformat": 4,
  "vscode": {
   "interpreter": {
    "hash": "4ff9d44125b24425fe3c2dce5daacf6db5584fb06329ab2509e868fbb2c68388"
   }
  }
 },
 "nbformat": 4,
 "nbformat_minor": 2
}
